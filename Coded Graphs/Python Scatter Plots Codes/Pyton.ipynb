import matplotlib.pyplot as plt
import numpy as np
import nbformat

# Replace “broken.ipynb” with your filename
nb = nbformat.read("broken.ipynb", as_version=4)
nbformat.write(nb, "fixed.ipynb")

# Your data
years = np.array([1930, 1947, 1953, 1954, 1954, 1955, 1959, 1959, 1964, 1965, 
                  1970, 1972, 1984, 1991, 1991, 1998, 2001, 2002, 2004, 2008, 2012])
portamento = np.array([15, 5, 23, 24, 20, 15, 29, 21, 29, 26, 19, 4, 11, 7, 6, 13, 24, 16, 11, 9, 2])
clean_shifts = np.array([14, 9, 8, 4, 4, 4, 14, 5, 7, 14, 13, 1, 1, 7, 6, 5, 10, 14, 7, 11, 6])

# Helper functions
def trendline(x, y):
    coeffs = np.polyfit(x, y, 1)
    poly = np.poly1d(coeffs)
    return poly, poly(x)

def r_squared(y, y_pred):
    ss_res = np.sum((y - y_pred) ** 2)
    ss_tot = np.sum((y - np.mean(y)) ** 2)
    return 1 - ss_res / ss_tot

# Compute trendlines and R²
p_port, yport_pred = trendline(years, portamento)
p_clean, yclean_pred = trendline(years, clean_shifts)

r2_port = r_squared(portamento, yport_pred)
r2_clean = r_squared(clean_shifts, yclean_pred)

# Plotting
plt.figure(figsize=(12, 6))

# Sliding portamento in dark blue
plt.scatter(years, portamento,
            color='darkblue',
            label='Sliding Portamento',
            marker='o')
# Clean shifts in red
plt.scatter(years, clean_shifts,
            color='red',
            label='Clean Shifts',
            marker='s')

# Trendlines in matching colors
plt.plot(years, yport_pred,
         linestyle='--',
         color='darkblue',
         label=f'Portamento Trendline ($R^2$ = {r2_port:.2f})')
plt.plot(years, yclean_pred,
         linestyle='--',
         color='red',
         label=f'Clean Shifts Trendline ($R^2$ = {r2_clean:.2f})')

plt.title('Trends in Sliding Portamento vs. Clean Shifts (1930–2012)')
plt.xlabel('Year')
plt.ylabel('Count')
plt.xticks(range(1930, 2020, 10))
plt.legend()
plt.grid(True)
plt.show()
